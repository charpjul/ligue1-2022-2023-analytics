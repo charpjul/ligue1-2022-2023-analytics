{
 "cells": [
  {
   "cell_type": "markdown",
   "id": "0cf8e30d-c1aa-472c-a884-95db682dcbcf",
   "metadata": {},
   "source": [
    "# Vérification et renommage des colonnes"
   ]
  },
  {
   "cell_type": "code",
   "execution_count": 1,
   "id": "b1b6c1e0-2cf3-4052-a6d1-e8148c3da942",
   "metadata": {},
   "outputs": [
    {
     "data": {
      "text/plain": [
       "Index(['matchid', 'journee', 'stade', 'spectateurs', 'date', 'home_team',\n",
       "       'away_team', 'home_goal', 'away_goal', 'home_possession',\n",
       "       'away_possession', 'home_duels_gagnes', 'away_duel_gagnes',\n",
       "       'home_duel_aeriens_gagnes', 'away_duel_aeriens_gagnes',\n",
       "       'home_interceptions', 'away_interceptions', 'home_hors_jeux',\n",
       "       'away_hors_eux', 'home_corners_won', 'away_corners_won', 'home_passes',\n",
       "       'away_passes', 'home_centres', 'away_centres', 'home_tirs', 'away_tirs',\n",
       "       'home_tirs_cadres', 'away_tirs_cadres', 'home_carton_jaune',\n",
       "       'away_carton_jaune', 'home_carton_rouge', 'away_carton_rouge',\n",
       "       'home_formation', 'away_formation'],\n",
       "      dtype='object')"
      ]
     },
     "execution_count": 1,
     "metadata": {},
     "output_type": "execute_result"
    }
   ],
   "source": [
    "import pandas as pd\n",
    "\n",
    "df = pd.read_csv(\"../data/raw/MatchDetailStats_20222023.csv\", sep=\";\", encoding=\"latin1\")\n",
    "\n",
    "# Suppression des espaces autour des noms de colonnes\n",
    "df.columns = df.columns.str.strip()\n",
    "\n",
    "# Remplacement des accents et passage en minuscules\n",
    "df.columns = (\n",
    "    df.columns\n",
    "    .str.replace('é','e')\n",
    "    .str.replace('è','e')\n",
    "    .str.replace('à','a')\n",
    "    .str.replace('î','i')\n",
    "    .str.lower()\n",
    ")\n",
    "df.columns\n"
   ]
  },
  {
   "cell_type": "markdown",
   "id": "c196d7c4-7025-48bc-b63e-e962cb01d809",
   "metadata": {},
   "source": [
    "# Conversion des types"
   ]
  },
  {
   "cell_type": "code",
   "execution_count": 2,
   "id": "3df4e98b-c965-4121-a9b4-d48993be0314",
   "metadata": {},
   "outputs": [
    {
     "data": {
      "text/plain": [
       "home_goal           int64\n",
       "away_goal           int64\n",
       "home_tirs           int64\n",
       "away_tirs           int64\n",
       "home_tirs_cadres    int64\n",
       "away_tirs_cadres    int64\n",
       "dtype: object"
      ]
     },
     "execution_count": 2,
     "metadata": {},
     "output_type": "execute_result"
    }
   ],
   "source": [
    "# Colonnes à convertir en entier\n",
    "cols_int = ['home_goal','away_goal','home_tirs','away_tirs','home_tirs_cadres','away_tirs_cadres']\n",
    "\n",
    "# Remplacer les NaN par 0 puis convertir en int\n",
    "df[cols_int] = df[cols_int].fillna(0).astype(int)\n",
    "\n",
    "# Vérifier\n",
    "df[cols_int].isna().sum()\n",
    "df[cols_int].dtypes\n"
   ]
  },
  {
   "cell_type": "code",
   "execution_count": 3,
   "id": "31c1557f-776e-49fc-854c-1b8a008ebcc4",
   "metadata": {},
   "outputs": [],
   "source": [
    "# Colonnes numériques avec virgules\n",
    "cols_percentage = ['home_possession','away_possession']\n",
    "for col in cols_percentage:\n",
    "    df[col] = pd.to_numeric(df[col].astype(str).str.replace(',','.'), errors='coerce')\n",
    "\n",
    "# Colonnes entières\n",
    "cols_int = ['home_goal','away_goal','home_tirs','away_tirs','home_tirs_cadres','away_tirs_cadres']\n",
    "df[cols_int] = df[cols_int].fillna(0).astype(int)\n",
    "\n",
    "# Forcer en string\n",
    "df['date_str'] = df['date'].astype(str)\n",
    "\n",
    "# Nettoyer les jours de la semaine\n",
    "df['date_str'] = df['date_str'].str.replace(r'DIM\\. |LUN\\. |MAR\\. |MER\\. |JEU\\. |VEN\\. |SAM\\. ', '', regex=True)\n",
    "\n",
    "# Nettoyer le séparateur de l'heure\n",
    "df['date_str'] = df['date_str'].str.replace(' - ', ' ', regex=False)\n",
    "\n",
    "# Convertir en datetime\n",
    "df['date'] = pd.to_datetime(df['date_str'], format='%d %B %Y %H:%M', errors='coerce')\n"
   ]
  },
  {
   "cell_type": "markdown",
   "id": "bbf43e3d-1e4c-4f1c-b9ce-31f29d54246d",
   "metadata": {},
   "source": [
    "# Colonnes supplémentaires"
   ]
  },
  {
   "cell_type": "code",
   "execution_count": 4,
   "id": "769b4456-ba30-4f03-859a-fb547c23f652",
   "metadata": {},
   "outputs": [],
   "source": [
    "# Résultat du match pour l'équipe à domicile\n",
    "df['home_win'] = (df['home_goal'] > df['away_goal']).astype(int)\n",
    "\n",
    "# Total de tirs\n",
    "df['total_tirs'] = df['home_tirs'] + df['away_tirs']\n",
    "\n",
    "# Différence de possession\n",
    "df['diff_possession'] = df['home_possession'] - df['away_possession']\n"
   ]
  },
  {
   "cell_type": "markdown",
   "id": "44a6733c-13b9-4d23-baa7-6079775b2cb1",
   "metadata": {},
   "source": [
    "# Export du CSV clean"
   ]
  },
  {
   "cell_type": "code",
   "execution_count": 5,
   "id": "b8e2a122-3c10-4e92-a0cd-64b59d0169d6",
   "metadata": {},
   "outputs": [],
   "source": [
    "df.to_csv(\"../data/raw/ligue1_clean.csv\", index=False, sep=\";\")"
   ]
  }
 ],
 "metadata": {
  "kernelspec": {
   "display_name": "Python 3 (ipykernel)",
   "language": "python",
   "name": "python3"
  },
  "language_info": {
   "codemirror_mode": {
    "name": "ipython",
    "version": 3
   },
   "file_extension": ".py",
   "mimetype": "text/x-python",
   "name": "python",
   "nbconvert_exporter": "python",
   "pygments_lexer": "ipython3",
   "version": "3.12.6"
  }
 },
 "nbformat": 4,
 "nbformat_minor": 5
}
